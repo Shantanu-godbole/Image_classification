{
 "cells": [
  {
   "cell_type": "markdown",
   "id": "d759b006",
   "metadata": {},
   "source": [
    "# Importing the dataset"
   ]
  },
  {
   "cell_type": "code",
   "execution_count": 53,
   "id": "95d52f05",
   "metadata": {},
   "outputs": [],
   "source": [
    "import keras as kr\n",
    "import numpy as np\n",
    "import pandas as pd\n",
    "import matplotlib.pyplot as plt\n",
    "import matplotlib as mpl"
   ]
  },
  {
   "cell_type": "code",
   "execution_count": 2,
   "id": "c7620292",
   "metadata": {},
   "outputs": [],
   "source": [
    "import tensorflow as tf\n",
    "from tensorflow import keras"
   ]
  },
  {
   "cell_type": "code",
   "execution_count": 3,
   "id": "4728ecad",
   "metadata": {},
   "outputs": [],
   "source": [
    "fashion_mnist=keras.datasets.fashion_mnist"
   ]
  },
  {
   "cell_type": "code",
   "execution_count": 4,
   "id": "be7dc7c1",
   "metadata": {},
   "outputs": [],
   "source": [
    "(x_train,y_train),(x_test,y_test)=fashion_mnist.load_data()"
   ]
  },
  {
   "cell_type": "code",
   "execution_count": 5,
   "id": "d6246f25",
   "metadata": {},
   "outputs": [
    {
     "data": {
      "text/plain": [
       "(60000, 28, 28)"
      ]
     },
     "execution_count": 5,
     "metadata": {},
     "output_type": "execute_result"
    }
   ],
   "source": [
    "x_train.shape"
   ]
  },
  {
   "cell_type": "code",
   "execution_count": 6,
   "id": "ba7537d4",
   "metadata": {},
   "outputs": [
    {
     "data": {
      "text/plain": [
       "(10000, 28, 28)"
      ]
     },
     "execution_count": 6,
     "metadata": {},
     "output_type": "execute_result"
    }
   ],
   "source": [
    "x_test.shape"
   ]
  },
  {
   "cell_type": "code",
   "execution_count": 7,
   "id": "c0bcd222",
   "metadata": {},
   "outputs": [
    {
     "data": {
      "text/plain": [
       "(60000,)"
      ]
     },
     "execution_count": 7,
     "metadata": {},
     "output_type": "execute_result"
    }
   ],
   "source": [
    "y_train.shape"
   ]
  },
  {
   "cell_type": "code",
   "execution_count": 8,
   "id": "7672736b",
   "metadata": {},
   "outputs": [
    {
     "data": {
      "text/plain": [
       "(10000,)"
      ]
     },
     "execution_count": 8,
     "metadata": {},
     "output_type": "execute_result"
    }
   ],
   "source": [
    "y_test.shape"
   ]
  },
  {
   "cell_type": "code",
   "execution_count": 9,
   "id": "11233a41",
   "metadata": {},
   "outputs": [
    {
     "data": {
      "text/plain": [
       "array([[  0,   0,   0,   0,   0,   0,   0,   0,   0,   0,   0,   0,   0,\n",
       "          0,   0,   0,   0,   0,   0,   0,   0,   0,   0,   0,   0,   0,\n",
       "          0,   0],\n",
       "       [  0,   0,   0,   0,   0,   0,   0,   0,   0,   0,   0,   0,   0,\n",
       "          0,   0,   0,   0,   0,   0,   0,   0,   0,   0,   0,   0,   0,\n",
       "          0,   0],\n",
       "       [  0,   0,   0,   0,   0,   0,   0,   0,   0,   0,   0,   0,   0,\n",
       "          0,   0,   0,   0,   0,   0,   0,   0,   0,   0,   0,   0,   0,\n",
       "          0,   0],\n",
       "       [  0,   0,   0,   0,   0,   0,   0,   0,   0,   0,   0,   0,   1,\n",
       "          0,   0,  13,  73,   0,   0,   1,   4,   0,   0,   0,   0,   1,\n",
       "          1,   0],\n",
       "       [  0,   0,   0,   0,   0,   0,   0,   0,   0,   0,   0,   0,   3,\n",
       "          0,  36, 136, 127,  62,  54,   0,   0,   0,   1,   3,   4,   0,\n",
       "          0,   3],\n",
       "       [  0,   0,   0,   0,   0,   0,   0,   0,   0,   0,   0,   0,   6,\n",
       "          0, 102, 204, 176, 134, 144, 123,  23,   0,   0,   0,   0,  12,\n",
       "         10,   0],\n",
       "       [  0,   0,   0,   0,   0,   0,   0,   0,   0,   0,   0,   0,   0,\n",
       "          0, 155, 236, 207, 178, 107, 156, 161, 109,  64,  23,  77, 130,\n",
       "         72,  15],\n",
       "       [  0,   0,   0,   0,   0,   0,   0,   0,   0,   0,   0,   1,   0,\n",
       "         69, 207, 223, 218, 216, 216, 163, 127, 121, 122, 146, 141,  88,\n",
       "        172,  66],\n",
       "       [  0,   0,   0,   0,   0,   0,   0,   0,   0,   1,   1,   1,   0,\n",
       "        200, 232, 232, 233, 229, 223, 223, 215, 213, 164, 127, 123, 196,\n",
       "        229,   0],\n",
       "       [  0,   0,   0,   0,   0,   0,   0,   0,   0,   0,   0,   0,   0,\n",
       "        183, 225, 216, 223, 228, 235, 227, 224, 222, 224, 221, 223, 245,\n",
       "        173,   0],\n",
       "       [  0,   0,   0,   0,   0,   0,   0,   0,   0,   0,   0,   0,   0,\n",
       "        193, 228, 218, 213, 198, 180, 212, 210, 211, 213, 223, 220, 243,\n",
       "        202,   0],\n",
       "       [  0,   0,   0,   0,   0,   0,   0,   0,   0,   1,   3,   0,  12,\n",
       "        219, 220, 212, 218, 192, 169, 227, 208, 218, 224, 212, 226, 197,\n",
       "        209,  52],\n",
       "       [  0,   0,   0,   0,   0,   0,   0,   0,   0,   0,   6,   0,  99,\n",
       "        244, 222, 220, 218, 203, 198, 221, 215, 213, 222, 220, 245, 119,\n",
       "        167,  56],\n",
       "       [  0,   0,   0,   0,   0,   0,   0,   0,   0,   4,   0,   0,  55,\n",
       "        236, 228, 230, 228, 240, 232, 213, 218, 223, 234, 217, 217, 209,\n",
       "         92,   0],\n",
       "       [  0,   0,   1,   4,   6,   7,   2,   0,   0,   0,   0,   0, 237,\n",
       "        226, 217, 223, 222, 219, 222, 221, 216, 223, 229, 215, 218, 255,\n",
       "         77,   0],\n",
       "       [  0,   3,   0,   0,   0,   0,   0,   0,   0,  62, 145, 204, 228,\n",
       "        207, 213, 221, 218, 208, 211, 218, 224, 223, 219, 215, 224, 244,\n",
       "        159,   0],\n",
       "       [  0,   0,   0,   0,  18,  44,  82, 107, 189, 228, 220, 222, 217,\n",
       "        226, 200, 205, 211, 230, 224, 234, 176, 188, 250, 248, 233, 238,\n",
       "        215,   0],\n",
       "       [  0,  57, 187, 208, 224, 221, 224, 208, 204, 214, 208, 209, 200,\n",
       "        159, 245, 193, 206, 223, 255, 255, 221, 234, 221, 211, 220, 232,\n",
       "        246,   0],\n",
       "       [  3, 202, 228, 224, 221, 211, 211, 214, 205, 205, 205, 220, 240,\n",
       "         80, 150, 255, 229, 221, 188, 154, 191, 210, 204, 209, 222, 228,\n",
       "        225,   0],\n",
       "       [ 98, 233, 198, 210, 222, 229, 229, 234, 249, 220, 194, 215, 217,\n",
       "        241,  65,  73, 106, 117, 168, 219, 221, 215, 217, 223, 223, 224,\n",
       "        229,  29],\n",
       "       [ 75, 204, 212, 204, 193, 205, 211, 225, 216, 185, 197, 206, 198,\n",
       "        213, 240, 195, 227, 245, 239, 223, 218, 212, 209, 222, 220, 221,\n",
       "        230,  67],\n",
       "       [ 48, 203, 183, 194, 213, 197, 185, 190, 194, 192, 202, 214, 219,\n",
       "        221, 220, 236, 225, 216, 199, 206, 186, 181, 177, 172, 181, 205,\n",
       "        206, 115],\n",
       "       [  0, 122, 219, 193, 179, 171, 183, 196, 204, 210, 213, 207, 211,\n",
       "        210, 200, 196, 194, 191, 195, 191, 198, 192, 176, 156, 167, 177,\n",
       "        210,  92],\n",
       "       [  0,   0,  74, 189, 212, 191, 175, 172, 175, 181, 185, 188, 189,\n",
       "        188, 193, 198, 204, 209, 210, 210, 211, 188, 188, 194, 192, 216,\n",
       "        170,   0],\n",
       "       [  2,   0,   0,   0,  66, 200, 222, 237, 239, 242, 246, 243, 244,\n",
       "        221, 220, 193, 191, 179, 182, 182, 181, 176, 166, 168,  99,  58,\n",
       "          0,   0],\n",
       "       [  0,   0,   0,   0,   0,   0,   0,  40,  61,  44,  72,  41,  35,\n",
       "          0,   0,   0,   0,   0,   0,   0,   0,   0,   0,   0,   0,   0,\n",
       "          0,   0],\n",
       "       [  0,   0,   0,   0,   0,   0,   0,   0,   0,   0,   0,   0,   0,\n",
       "          0,   0,   0,   0,   0,   0,   0,   0,   0,   0,   0,   0,   0,\n",
       "          0,   0],\n",
       "       [  0,   0,   0,   0,   0,   0,   0,   0,   0,   0,   0,   0,   0,\n",
       "          0,   0,   0,   0,   0,   0,   0,   0,   0,   0,   0,   0,   0,\n",
       "          0,   0]], dtype=uint8)"
      ]
     },
     "execution_count": 9,
     "metadata": {},
     "output_type": "execute_result"
    }
   ],
   "source": [
    "x_train[0]"
   ]
  },
  {
   "cell_type": "code",
   "execution_count": 10,
   "id": "36c30710",
   "metadata": {},
   "outputs": [
    {
     "data": {
      "text/plain": [
       "<matplotlib.image.AxesImage at 0x2019b67b9d0>"
      ]
     },
     "execution_count": 10,
     "metadata": {},
     "output_type": "execute_result"
    },
    {
     "data": {
      "image/png": "[encoded data removed]",
      "text/plain": [
       "<Figure size 640x480 with 1 Axes>"
      ]
     },
     "metadata": {},
     "output_type": "display_data"
    }
   ],
   "source": [
    "plt.imshow(x_train[2])"
   ]
  },
  {
   "cell_type": "code",
   "execution_count": 33,
   "id": "78a6f202",
   "metadata": {},
   "outputs": [],
   "source": [
    "#normalizing our data so that the values of x_train and x_train will be in the range of (0,1)\n",
    "x_train=x_train/255\n",
    "x_test_n=x_test/255"
   ]
  },
  {
   "cell_type": "code",
   "execution_count": 34,
   "id": "c8208b32",
   "metadata": {},
   "outputs": [],
   "source": [
    "#creating the train, test and validation datasets\n",
    "x_valid,x_train=x_train[0:5000],x_train[5000:]\n",
    "y_valid,y_train=y_train[:5000],y_train[5000:]\n",
    "x_test=x_test_n"
   ]
  },
  {
   "cell_type": "code",
   "execution_count": 35,
   "id": "e79be909",
   "metadata": {},
   "outputs": [],
   "source": [
    "np.random.seed(1)"
   ]
  },
  {
   "cell_type": "code",
   "execution_count": 36,
   "id": "0cf3d2a5",
   "metadata": {},
   "outputs": [],
   "source": [
    "tf.random.set_seed(1)"
   ]
  },
  {
   "cell_type": "code",
   "execution_count": 37,
   "id": "c6241910",
   "metadata": {},
   "outputs": [],
   "source": [
    "#preparing the structure of our neural network\n",
    "model=kr.models.Sequential()\n",
    "model.add(kr.layers.Flatten(input_shape=[28,28]))\n",
    "model.add(kr.layers.Dense(300,activation=\"relu\"))\n",
    "model.add(kr.layers.Dense(100,activation=\"relu\"))\n",
    "model.add(kr.layers.Dense(10,activation=\"softmax\"))       "
   ]
  },
  {
   "cell_type": "code",
   "execution_count": 38,
   "id": "1cb96cbe",
   "metadata": {},
   "outputs": [
    {
     "name": "stdout",
     "output_type": "stream",
     "text": [
      "Model: \"sequential_1\"\n",
      "_________________________________________________________________\n",
      " Layer (type)                Output Shape              Param #   \n",
      "=================================================================\n",
      " flatten_1 (Flatten)         (None, 784)               0         \n",
      "                                                                 \n",
      " dense_3 (Dense)             (None, 300)               235500    \n",
      "                                                                 \n",
      " dense_4 (Dense)             (None, 100)               30100     \n",
      "                                                                 \n",
      " dense_5 (Dense)             (None, 10)                1010      \n",
      "                                                                 \n",
      "=================================================================\n",
      "Total params: 266,610\n",
      "Trainable params: 266,610\n",
      "Non-trainable params: 0\n",
      "_________________________________________________________________\n"
     ]
    }
   ],
   "source": [
    "model.summary()"
   ]
  },
  {
   "cell_type": "code",
   "execution_count": 39,
   "id": "d3b75c17",
   "metadata": {},
   "outputs": [
    {
     "name": "stdout",
     "output_type": "stream",
     "text": [
      "Requirement already satisfied: pydot in d:\\anaconda\\lib\\site-packages (1.4.2)\n",
      "Requirement already satisfied: pyparsing>=2.1.4 in d:\\anaconda\\lib\\site-packages (from pydot) (3.0.9)\n",
      "Requirement already satisfied: graphviz in d:\\anaconda\\lib\\site-packages (0.20.1)\n"
     ]
    }
   ],
   "source": [
    "! pip install pydot\n",
    "!pip install graphviz"
   ]
  },
  {
   "cell_type": "code",
   "execution_count": 40,
   "id": "622f8b67",
   "metadata": {},
   "outputs": [],
   "source": [
    "import pydot"
   ]
  },
  {
   "cell_type": "code",
   "execution_count": 41,
   "id": "1d8c80ad",
   "metadata": {},
   "outputs": [
    {
     "name": "stdout",
     "output_type": "stream",
     "text": [
      "You must install pydot (`pip install pydot`) and install graphviz (see instructions at https://graphviz.gitlab.io/download/) for plot_model to work.\n"
     ]
    }
   ],
   "source": [
    "kr.utils.plot_model(model)"
   ]
  },
  {
   "cell_type": "code",
   "execution_count": 42,
   "id": "842e0a87",
   "metadata": {},
   "outputs": [],
   "source": [
    "weights,biases=model.layers[1].get_weights()"
   ]
  },
  {
   "cell_type": "code",
   "execution_count": 43,
   "id": "c56fdaab",
   "metadata": {},
   "outputs": [
    {
     "data": {
      "text/plain": [
       "array([[ 0.04051904,  0.01572517, -0.03685765, ..., -0.05837215,\n",
       "        -0.0142464 ,  0.06180772],\n",
       "       [ 0.05911493,  0.05997026,  0.00819952, ..., -0.01269386,\n",
       "         0.01545698,  0.01947717],\n",
       "       [ 0.02618933,  0.04856383,  0.00185408, ...,  0.00301602,\n",
       "        -0.06523085, -0.0268086 ],\n",
       "       ...,\n",
       "       [ 0.0578649 ,  0.0533783 , -0.05072597, ...,  0.01005488,\n",
       "        -0.04830365, -0.04460433],\n",
       "       [ 0.05836025,  0.05596744,  0.03451009, ...,  0.04263508,\n",
       "        -0.0199736 , -0.00348975],\n",
       "       [ 0.04532884,  0.05889225,  0.01154908, ..., -0.07281389,\n",
       "         0.01102498, -0.02566208]], dtype=float32)"
      ]
     },
     "execution_count": 43,
     "metadata": {},
     "output_type": "execute_result"
    }
   ],
   "source": [
    "weights"
   ]
  },
  {
   "cell_type": "code",
   "execution_count": 44,
   "id": "bc6da542",
   "metadata": {},
   "outputs": [
    {
     "data": {
      "text/plain": [
       "(784, 300)"
      ]
     },
     "execution_count": 44,
     "metadata": {},
     "output_type": "execute_result"
    }
   ],
   "source": [
    "weights.shape"
   ]
  },
  {
   "cell_type": "code",
   "execution_count": 45,
   "id": "eae38acb",
   "metadata": {},
   "outputs": [
    {
     "data": {
      "text/plain": [
       "array([0., 0., 0., 0., 0., 0., 0., 0., 0., 0., 0., 0., 0., 0., 0., 0., 0.,\n",
       "       0., 0., 0., 0., 0., 0., 0., 0., 0., 0., 0., 0., 0., 0., 0., 0., 0.,\n",
       "       0., 0., 0., 0., 0., 0., 0., 0., 0., 0., 0., 0., 0., 0., 0., 0., 0.,\n",
       "       0., 0., 0., 0., 0., 0., 0., 0., 0., 0., 0., 0., 0., 0., 0., 0., 0.,\n",
       "       0., 0., 0., 0., 0., 0., 0., 0., 0., 0., 0., 0., 0., 0., 0., 0., 0.,\n",
       "       0., 0., 0., 0., 0., 0., 0., 0., 0., 0., 0., 0., 0., 0., 0., 0., 0.,\n",
       "       0., 0., 0., 0., 0., 0., 0., 0., 0., 0., 0., 0., 0., 0., 0., 0., 0.,\n",
       "       0., 0., 0., 0., 0., 0., 0., 0., 0., 0., 0., 0., 0., 0., 0., 0., 0.,\n",
       "       0., 0., 0., 0., 0., 0., 0., 0., 0., 0., 0., 0., 0., 0., 0., 0., 0.,\n",
       "       0., 0., 0., 0., 0., 0., 0., 0., 0., 0., 0., 0., 0., 0., 0., 0., 0.,\n",
       "       0., 0., 0., 0., 0., 0., 0., 0., 0., 0., 0., 0., 0., 0., 0., 0., 0.,\n",
       "       0., 0., 0., 0., 0., 0., 0., 0., 0., 0., 0., 0., 0., 0., 0., 0., 0.,\n",
       "       0., 0., 0., 0., 0., 0., 0., 0., 0., 0., 0., 0., 0., 0., 0., 0., 0.,\n",
       "       0., 0., 0., 0., 0., 0., 0., 0., 0., 0., 0., 0., 0., 0., 0., 0., 0.,\n",
       "       0., 0., 0., 0., 0., 0., 0., 0., 0., 0., 0., 0., 0., 0., 0., 0., 0.,\n",
       "       0., 0., 0., 0., 0., 0., 0., 0., 0., 0., 0., 0., 0., 0., 0., 0., 0.,\n",
       "       0., 0., 0., 0., 0., 0., 0., 0., 0., 0., 0., 0., 0., 0., 0., 0., 0.,\n",
       "       0., 0., 0., 0., 0., 0., 0., 0., 0., 0., 0.], dtype=float32)"
      ]
     },
     "execution_count": 45,
     "metadata": {},
     "output_type": "execute_result"
    }
   ],
   "source": [
    "biases"
   ]
  },
  {
   "cell_type": "code",
   "execution_count": 46,
   "id": "145bf6a2",
   "metadata": {},
   "outputs": [
    {
     "data": {
      "text/plain": [
       "(300,)"
      ]
     },
     "execution_count": 46,
     "metadata": {},
     "output_type": "execute_result"
    }
   ],
   "source": [
    "biases.shape"
   ]
  },
  {
   "cell_type": "code",
   "execution_count": 47,
   "id": "47be05aa",
   "metadata": {},
   "outputs": [],
   "source": [
    "model.compile(loss='sparse_categorical_crossentropy',optimizer='sgd',metrics=['accuracy'])"
   ]
  },
  {
   "cell_type": "code",
   "execution_count": 48,
   "id": "633e9ec4",
   "metadata": {},
   "outputs": [
    {
     "name": "stdout",
     "output_type": "stream",
     "text": [
      "Epoch 1/30\n",
      "1563/1563 [==============================] - 5s 3ms/step - loss: 0.7453 - accuracy: 0.7559 - val_loss: 0.5483 - val_accuracy: 0.8108\n",
      "Epoch 2/30\n",
      "1563/1563 [==============================] - 4s 3ms/step - loss: 0.4959 - accuracy: 0.8283 - val_loss: 0.4860 - val_accuracy: 0.8286\n",
      "Epoch 3/30\n",
      "1563/1563 [==============================] - 4s 3ms/step - loss: 0.4473 - accuracy: 0.8434 - val_loss: 0.5075 - val_accuracy: 0.8182\n",
      "Epoch 4/30\n",
      "1563/1563 [==============================] - 4s 3ms/step - loss: 0.4193 - accuracy: 0.8514 - val_loss: 0.4164 - val_accuracy: 0.8544\n",
      "Epoch 5/30\n",
      "1563/1563 [==============================] - 4s 3ms/step - loss: 0.4002 - accuracy: 0.8601 - val_loss: 0.4057 - val_accuracy: 0.8550\n",
      "Epoch 6/30\n",
      "1563/1563 [==============================] - 4s 3ms/step - loss: 0.3823 - accuracy: 0.8647 - val_loss: 0.3909 - val_accuracy: 0.8602\n",
      "Epoch 7/30\n",
      "1563/1563 [==============================] - 4s 3ms/step - loss: 0.3697 - accuracy: 0.8688 - val_loss: 0.4307 - val_accuracy: 0.8478\n",
      "Epoch 8/30\n",
      "1563/1563 [==============================] - 4s 3ms/step - loss: 0.3576 - accuracy: 0.8727 - val_loss: 0.3911 - val_accuracy: 0.8566\n",
      "Epoch 9/30\n",
      "1563/1563 [==============================] - 4s 3ms/step - loss: 0.3484 - accuracy: 0.8759 - val_loss: 0.3673 - val_accuracy: 0.8694\n",
      "Epoch 10/30\n",
      "1563/1563 [==============================] - 4s 3ms/step - loss: 0.3383 - accuracy: 0.8799 - val_loss: 0.3861 - val_accuracy: 0.8610\n",
      "Epoch 11/30\n",
      "1563/1563 [==============================] - 4s 3ms/step - loss: 0.3319 - accuracy: 0.8810 - val_loss: 0.3733 - val_accuracy: 0.8638\n",
      "Epoch 12/30\n",
      "1563/1563 [==============================] - 4s 3ms/step - loss: 0.3217 - accuracy: 0.8849 - val_loss: 0.3497 - val_accuracy: 0.8772\n",
      "Epoch 13/30\n",
      "1563/1563 [==============================] - 4s 3ms/step - loss: 0.3153 - accuracy: 0.8877 - val_loss: 0.3807 - val_accuracy: 0.8616\n",
      "Epoch 14/30\n",
      "1563/1563 [==============================] - 4s 3ms/step - loss: 0.3087 - accuracy: 0.8886 - val_loss: 0.3351 - val_accuracy: 0.8822\n",
      "Epoch 15/30\n",
      "1563/1563 [==============================] - 4s 3ms/step - loss: 0.3019 - accuracy: 0.8922 - val_loss: 0.3361 - val_accuracy: 0.8776\n",
      "Epoch 16/30\n",
      "1563/1563 [==============================] - 4s 3ms/step - loss: 0.2950 - accuracy: 0.8952 - val_loss: 0.3610 - val_accuracy: 0.8638\n",
      "Epoch 17/30\n",
      "1563/1563 [==============================] - 4s 3ms/step - loss: 0.2897 - accuracy: 0.8945 - val_loss: 0.3631 - val_accuracy: 0.8714\n",
      "Epoch 18/30\n",
      "1563/1563 [==============================] - 4s 3ms/step - loss: 0.2857 - accuracy: 0.8976 - val_loss: 0.3219 - val_accuracy: 0.8856\n",
      "Epoch 19/30\n",
      "1563/1563 [==============================] - 4s 3ms/step - loss: 0.2790 - accuracy: 0.8996 - val_loss: 0.3459 - val_accuracy: 0.8736\n",
      "Epoch 20/30\n",
      "1563/1563 [==============================] - 4s 3ms/step - loss: 0.2735 - accuracy: 0.9007 - val_loss: 0.3457 - val_accuracy: 0.8744\n",
      "Epoch 21/30\n",
      "1563/1563 [==============================] - 4s 3ms/step - loss: 0.2694 - accuracy: 0.9027 - val_loss: 0.3196 - val_accuracy: 0.8818\n",
      "Epoch 22/30\n",
      "1563/1563 [==============================] - 4s 3ms/step - loss: 0.2645 - accuracy: 0.9045 - val_loss: 0.3523 - val_accuracy: 0.8620\n",
      "Epoch 23/30\n",
      "1563/1563 [==============================] - 4s 3ms/step - loss: 0.2596 - accuracy: 0.9074 - val_loss: 0.3343 - val_accuracy: 0.8822\n",
      "Epoch 24/30\n",
      "1563/1563 [==============================] - 4s 3ms/step - loss: 0.2557 - accuracy: 0.9079 - val_loss: 0.3216 - val_accuracy: 0.8796\n",
      "Epoch 25/30\n",
      "1563/1563 [==============================] - 4s 3ms/step - loss: 0.2513 - accuracy: 0.9103 - val_loss: 0.3396 - val_accuracy: 0.8796\n",
      "Epoch 26/30\n",
      "1563/1563 [==============================] - 4s 3ms/step - loss: 0.2471 - accuracy: 0.9112 - val_loss: 0.3031 - val_accuracy: 0.8918\n",
      "Epoch 27/30\n",
      "1563/1563 [==============================] - 4s 3ms/step - loss: 0.2427 - accuracy: 0.9123 - val_loss: 0.3231 - val_accuracy: 0.8826\n",
      "Epoch 28/30\n",
      "1563/1563 [==============================] - 4s 3ms/step - loss: 0.2394 - accuracy: 0.9136 - val_loss: 0.3157 - val_accuracy: 0.8856\n",
      "Epoch 29/30\n",
      "1563/1563 [==============================] - 4s 3ms/step - loss: 0.2350 - accuracy: 0.9161 - val_loss: 0.3109 - val_accuracy: 0.8884\n",
      "Epoch 30/30\n",
      "1563/1563 [==============================] - 4s 3ms/step - loss: 0.2305 - accuracy: 0.9175 - val_loss: 0.3067 - val_accuracy: 0.8866\n"
     ]
    }
   ],
   "source": [
    "#training the model on the train dataset\n",
    "model_predicted=model.fit(x_train,y_train,epochs=30,validation_data=(x_valid,y_valid))"
   ]
  },
  {
   "cell_type": "code",
   "execution_count": 49,
   "id": "2b836999",
   "metadata": {},
   "outputs": [
    {
     "data": {
      "text/plain": [
       "{'verbose': 1, 'epochs': 30, 'steps': 1563}"
      ]
     },
     "execution_count": 49,
     "metadata": {},
     "output_type": "execute_result"
    }
   ],
   "source": [
    "model_predicted.params"
   ]
  },
  {
   "cell_type": "code",
   "execution_count": 50,
   "id": "4d707448",
   "metadata": {},
   "outputs": [
    {
     "data": {
      "text/plain": [
       "{'loss': [0.7452647089958191,\n",
       "  0.49594029784202576,\n",
       "  0.44734472036361694,\n",
       "  0.4193224310874939,\n",
       "  0.4001704752445221,\n",
       "  0.3823365271091461,\n",
       "  0.36970004439353943,\n",
       "  0.3576033115386963,\n",
       "  0.3484235107898712,\n",
       "  0.3382507562637329,\n",
       "  0.3318677246570587,\n",
       "  0.3217146396636963,\n",
       "  0.3153393864631653,\n",
       "  0.3087095022201538,\n",
       "  0.30187612771987915,\n",
       "  0.29499292373657227,\n",
       "  0.2897076904773712,\n",
       "  0.2856888771057129,\n",
       "  0.27901366353034973,\n",
       "  0.2735289931297302,\n",
       "  0.26939645409584045,\n",
       "  0.2645496726036072,\n",
       "  0.2595880925655365,\n",
       "  0.2557424008846283,\n",
       "  0.2512904405593872,\n",
       "  0.24708372354507446,\n",
       "  0.24267007410526276,\n",
       "  0.2394314706325531,\n",
       "  0.2349953055381775,\n",
       "  0.23049752414226532],\n",
       " 'accuracy': [0.7558799982070923,\n",
       "  0.8282600045204163,\n",
       "  0.8433799743652344,\n",
       "  0.851419985294342,\n",
       "  0.8600599765777588,\n",
       "  0.8647400140762329,\n",
       "  0.8687999844551086,\n",
       "  0.8727399706840515,\n",
       "  0.8758800029754639,\n",
       "  0.8798999786376953,\n",
       "  0.8809999823570251,\n",
       "  0.8848599791526794,\n",
       "  0.8876799941062927,\n",
       "  0.8885599970817566,\n",
       "  0.8921800255775452,\n",
       "  0.8952199816703796,\n",
       "  0.894540011882782,\n",
       "  0.897599995136261,\n",
       "  0.8995800018310547,\n",
       "  0.9007400274276733,\n",
       "  0.902679979801178,\n",
       "  0.9045199751853943,\n",
       "  0.9074199795722961,\n",
       "  0.9079200029373169,\n",
       "  0.910260021686554,\n",
       "  0.9111599922180176,\n",
       "  0.9123200178146362,\n",
       "  0.9135800004005432,\n",
       "  0.9160599708557129,\n",
       "  0.9175000190734863],\n",
       " 'val_loss': [0.5482698678970337,\n",
       "  0.48604053258895874,\n",
       "  0.5074622631072998,\n",
       "  0.4163527488708496,\n",
       "  0.40567177534103394,\n",
       "  0.3908616602420807,\n",
       "  0.4307307004928589,\n",
       "  0.3910902142524719,\n",
       "  0.36731287837028503,\n",
       "  0.3861076533794403,\n",
       "  0.3733111321926117,\n",
       "  0.34973591566085815,\n",
       "  0.38067862391471863,\n",
       "  0.3351404666900635,\n",
       "  0.3361462354660034,\n",
       "  0.3609863519668579,\n",
       "  0.3630529046058655,\n",
       "  0.32193800806999207,\n",
       "  0.34586846828460693,\n",
       "  0.3456721603870392,\n",
       "  0.3196321427822113,\n",
       "  0.3523366153240204,\n",
       "  0.3343111276626587,\n",
       "  0.32161712646484375,\n",
       "  0.33955347537994385,\n",
       "  0.30314502120018005,\n",
       "  0.3231296241283417,\n",
       "  0.31572461128234863,\n",
       "  0.3108813166618347,\n",
       "  0.3066673278808594],\n",
       " 'val_accuracy': [0.8108000159263611,\n",
       "  0.8285999894142151,\n",
       "  0.8181999921798706,\n",
       "  0.8543999791145325,\n",
       "  0.8550000190734863,\n",
       "  0.8601999878883362,\n",
       "  0.8478000164031982,\n",
       "  0.8565999865531921,\n",
       "  0.8694000244140625,\n",
       "  0.8610000014305115,\n",
       "  0.8637999892234802,\n",
       "  0.8772000074386597,\n",
       "  0.8615999817848206,\n",
       "  0.8822000026702881,\n",
       "  0.8776000142097473,\n",
       "  0.8637999892234802,\n",
       "  0.871399998664856,\n",
       "  0.8855999708175659,\n",
       "  0.8736000061035156,\n",
       "  0.8744000196456909,\n",
       "  0.8817999958992004,\n",
       "  0.8619999885559082,\n",
       "  0.8822000026702881,\n",
       "  0.8795999884605408,\n",
       "  0.8795999884605408,\n",
       "  0.8917999863624573,\n",
       "  0.8826000094413757,\n",
       "  0.8855999708175659,\n",
       "  0.8884000182151794,\n",
       "  0.8866000175476074]}"
      ]
     },
     "execution_count": 50,
     "metadata": {},
     "output_type": "execute_result"
    }
   ],
   "source": [
    "model_predicted.history"
   ]
  },
  {
   "cell_type": "code",
   "execution_count": 51,
   "id": "73092fcd",
   "metadata": {},
   "outputs": [
    {
     "data": {
      "image/png": "[encoded data removed]",
      "text/plain": [
       "<Figure size 800x500 with 1 Axes>"
      ]
     },
     "metadata": {},
     "output_type": "display_data"
    }
   ],
   "source": [
    "import pandas as pd\n",
    "pd.DataFrame(model_predicted.history).plot(figsize=(8,5))\n",
    "plt.grid(True)\n",
    "plt.gca().set_ylim(0,1)\n",
    "plt.show()"
   ]
  },
  {
   "cell_type": "code",
   "execution_count": 52,
   "id": "77358fbc",
   "metadata": {},
   "outputs": [
    {
     "name": "stdout",
     "output_type": "stream",
     "text": [
      "313/313 [==============================] - 1s 2ms/step - loss: 2.9209 - accuracy: 0.1000\n"
     ]
    },
    {
     "data": {
      "text/plain": [
       "[2.920905590057373, 0.10000000149011612]"
      ]
     },
     "execution_count": 52,
     "metadata": {},
     "output_type": "execute_result"
    }
   ],
   "source": [
    "#evaluating the model\n",
    "model.evaluate(x_test,y_test)"
   ]
  },
  {
   "cell_type": "code",
   "execution_count": null,
   "id": "93646bca",
   "metadata": {},
   "outputs": [],
   "source": []
  },
  {
   "cell_type": "code",
   "execution_count": null,
   "id": "91a5bab8",
   "metadata": {},
   "outputs": [],
   "source": []
  }
 ],
 "metadata": {
  "kernelspec": {
   "display_name": "Python 3 (ipykernel)",
   "language": "python",
   "name": "python3"
  },
  "language_info": {
   "codemirror_mode": {
    "name": "ipython",
    "version": 3
   },
   "file_extension": ".py",
   "mimetype": "text/x-python",
   "name": "python",
   "nbconvert_exporter": "python",
   "pygments_lexer": "ipython3",
   "version": "3.9.13"
  }
 },
 "nbformat": 4,
 "nbformat_minor": 5
}
